{
 "cells": [
  {
   "cell_type": "code",
   "execution_count": 1,
   "metadata": {},
   "outputs": [],
   "source": [
    "import pandas as pd\n",
    "import matplotlib.pyplot as plt\n",
    "from tools import get_data\n",
    "import seaborn as sns\n",
    "import numpy as np"
   ]
  },
  {
   "cell_type": "markdown",
   "metadata": {},
   "source": [
    "# Test 01 de Selección de Variables"
   ]
  },
  {
   "cell_type": "markdown",
   "metadata": {},
   "source": [
    "* Tamaño de Muestra: 300 millones de datos\n",
    "* N° de Bandas: 150\n",
    "* N° de ROIs: 6"
   ]
  },
  {
   "cell_type": "markdown",
   "metadata": {},
   "source": [
    "Definiciones:\n",
    " * Rango en el nivel de la Calidad: 1 - 5, donde 1 es alta calidad y 5 es baja calidad.\n",
    "    * ROI B: Zona totalmente blanca.\n",
    "    * ROI A y F: Zona con partes cuarteadas blancas.\n",
    "    * ROI D: Zona parcialmente clara.\n",
    "    * ROI C: Zona parcialmente obscura.\n",
    "    * ROI E: Zona obscura.\n",
    " * Para efectos de la presente experimentación, asumiremos que la calidad alta del alimento se determina por una zona totalmente blanca y la calidad baja se determina por una zona tptalmente obscura."
   ]
  },
  {
   "cell_type": "code",
   "execution_count": 2,
   "metadata": {},
   "outputs": [],
   "source": [
    "path = \"D:\\\\Documentos\\\\LUIS AUGUSTO\\\\UPN 2019-2\\\\Tesis\\\\Data\\\\test_01\\\\rois\\\\\""
   ]
  },
  {
   "cell_type": "markdown",
   "metadata": {},
   "source": [
    "### Carga de Datos y Filtrado Inicial para datos entre la longitud de onda 400 y la banda 1000 (Bandas 49 - 124)"
   ]
  },
  {
   "cell_type": "markdown",
   "metadata": {},
   "source": [
    "#### ROI A"
   ]
  },
  {
   "cell_type": "code",
   "execution_count": 3,
   "metadata": {},
   "outputs": [
    {
     "data": {
      "text/plain": [
       "(33992, 76)"
      ]
     },
     "execution_count": 3,
     "metadata": {},
     "output_type": "execute_result"
    }
   ],
   "source": [
    "A = get_data(path + 'A.roi.txt')\n",
    "A.shape"
   ]
  },
  {
   "cell_type": "markdown",
   "metadata": {},
   "source": [
    "#### ROI B"
   ]
  },
  {
   "cell_type": "code",
   "execution_count": 4,
   "metadata": {},
   "outputs": [
    {
     "data": {
      "text/plain": [
       "(36544, 76)"
      ]
     },
     "execution_count": 4,
     "metadata": {},
     "output_type": "execute_result"
    }
   ],
   "source": [
    "B = get_data(path + 'B.roi.txt')\n",
    "B.shape"
   ]
  },
  {
   "cell_type": "markdown",
   "metadata": {},
   "source": [
    "#### ROI C"
   ]
  },
  {
   "cell_type": "code",
   "execution_count": 5,
   "metadata": {
    "scrolled": true
   },
   "outputs": [
    {
     "data": {
      "text/plain": [
       "(8244, 76)"
      ]
     },
     "execution_count": 5,
     "metadata": {},
     "output_type": "execute_result"
    }
   ],
   "source": [
    "C = get_data(path + 'C.roi.txt')\n",
    "C.shape"
   ]
  },
  {
   "cell_type": "markdown",
   "metadata": {},
   "source": [
    "#### ROI D"
   ]
  },
  {
   "cell_type": "code",
   "execution_count": 6,
   "metadata": {},
   "outputs": [
    {
     "data": {
      "text/plain": [
       "(54925, 76)"
      ]
     },
     "execution_count": 6,
     "metadata": {},
     "output_type": "execute_result"
    }
   ],
   "source": [
    "D = get_data(path + 'D.roi.txt')\n",
    "D.shape"
   ]
  },
  {
   "cell_type": "markdown",
   "metadata": {},
   "source": [
    "#### ROI E"
   ]
  },
  {
   "cell_type": "code",
   "execution_count": 7,
   "metadata": {},
   "outputs": [
    {
     "data": {
      "text/plain": [
       "(17494, 76)"
      ]
     },
     "execution_count": 7,
     "metadata": {},
     "output_type": "execute_result"
    }
   ],
   "source": [
    "E = get_data(path + 'E.roi.txt')\n",
    "E.shape"
   ]
  },
  {
   "cell_type": "markdown",
   "metadata": {},
   "source": [
    "#### ROI F"
   ]
  },
  {
   "cell_type": "code",
   "execution_count": 8,
   "metadata": {},
   "outputs": [
    {
     "data": {
      "text/plain": [
       "(34617, 76)"
      ]
     },
     "execution_count": 8,
     "metadata": {},
     "output_type": "execute_result"
    }
   ],
   "source": [
    "F = get_data(path + 'F.roi.txt')\n",
    "F.shape"
   ]
  },
  {
   "cell_type": "markdown",
   "metadata": {},
   "source": [
    "# Selección de Variables"
   ]
  },
  {
   "cell_type": "code",
   "execution_count": 9,
   "metadata": {},
   "outputs": [],
   "source": [
    "from sklearn.feature_selection import SelectKBest, chi2"
   ]
  },
  {
   "cell_type": "markdown",
   "metadata": {},
   "source": [
    "#### Clasificamos el nivel de calidad en base a una escala de 0 a 100 con saltos de 25 unidades y las asignamos como salida esperada para cada ROI."
   ]
  },
  {
   "cell_type": "code",
   "execution_count": 11,
   "metadata": {},
   "outputs": [],
   "source": [
    "y_A = np.ones(A.shape[0]) + 50\n",
    "y_B = np.ones(B.shape[0])\n",
    "y_C = np.ones(C.shape[0]) + 25\n",
    "y_D = np.ones(D.shape[0]) + 75\n",
    "y_E = np.ones(E.shape[0]) + 100\n",
    "y_F = np.ones(F.shape[0]) + 50"
   ]
  },
  {
   "cell_type": "markdown",
   "metadata": {},
   "source": [
    "#### Realizamos la selección de variables mediante la Prueba Gamma en función a la función Chi-2 y el Ranking de Variables"
   ]
  },
  {
   "cell_type": "code",
   "execution_count": 12,
   "metadata": {},
   "outputs": [],
   "source": [
    "bestfeatures = SelectKBest(score_func=chi2, k=10)\n",
    "fit_A = bestfeatures.fit_transform(A,y_A)\n",
    "fit_B = bestfeatures.fit_transform(B,y_B)\n",
    "fit_C = bestfeatures.fit_transform(C,y_C)\n",
    "fit_D = bestfeatures.fit_transform(D,y_D)\n",
    "fit_E = bestfeatures.fit_transform(E,y_E)\n",
    "fit_F = bestfeatures.fit_transform(F,y_F)"
   ]
  },
  {
   "cell_type": "markdown",
   "metadata": {},
   "source": [
    "#### De las 10 Bandas escogidas para cada ROI, 6 serán utilizadas para los modelos de entrenamiento y 4 para testear el modelo."
   ]
  },
  {
   "cell_type": "code",
   "execution_count": 14,
   "metadata": {},
   "outputs": [
    {
     "data": {
      "text/plain": [
       "(36544, 10)"
      ]
     },
     "execution_count": 14,
     "metadata": {},
     "output_type": "execute_result"
    }
   ],
   "source": [
    "fit_B.shape"
   ]
  },
  {
   "cell_type": "code",
   "execution_count": 49,
   "metadata": {
    "scrolled": false
   },
   "outputs": [
    {
     "data": {
      "image/png": "[encoded data removed]",
      "text/plain": [
       "<Figure size 432x288 with 1 Axes>"
      ]
     },
     "metadata": {
      "needs_background": "light"
     },
     "output_type": "display_data"
    }
   ],
   "source": [
    "fit_A[:,0].shape\n",
    "plt.scatter(fit_A[:,0], fit_A[:,2], alpha=0.5)\n",
    "plt.title('Scatter plot pythonspot.com')\n",
    "plt.xlabel('x')\n",
    "plt.ylabel('y')            \n",
    "plt.show()"
   ]
  },
  {
   "cell_type": "code",
   "execution_count": 15,
   "metadata": {},
   "outputs": [
    {
     "data": {
      "text/plain": [
       "(8244, 10)"
      ]
     },
     "execution_count": 15,
     "metadata": {},
     "output_type": "execute_result"
    }
   ],
   "source": [
    "fit_C.shape"
   ]
  },
  {
   "cell_type": "code",
   "execution_count": 16,
   "metadata": {},
   "outputs": [
    {
     "data": {
      "text/plain": [
       "(54925, 10)"
      ]
     },
     "execution_count": 16,
     "metadata": {},
     "output_type": "execute_result"
    }
   ],
   "source": [
    "fit_D.shape"
   ]
  },
  {
   "cell_type": "code",
   "execution_count": 17,
   "metadata": {},
   "outputs": [
    {
     "data": {
      "text/plain": [
       "(17494, 10)"
      ]
     },
     "execution_count": 17,
     "metadata": {},
     "output_type": "execute_result"
    }
   ],
   "source": [
    "fit_E.shape"
   ]
  },
  {
   "cell_type": "code",
   "execution_count": 18,
   "metadata": {},
   "outputs": [
    {
     "data": {
      "text/plain": [
       "(34617, 10)"
      ]
     },
     "execution_count": 18,
     "metadata": {},
     "output_type": "execute_result"
    }
   ],
   "source": [
    "fit_F.shape"
   ]
  },
  {
   "cell_type": "code",
   "execution_count": 20,
   "metadata": {},
   "outputs": [
    {
     "data": {
      "text/html": [
       "<div>\n",
       "<style scoped>\n",
       "    .dataframe tbody tr th:only-of-type {\n",
       "        vertical-align: middle;\n",
       "    }\n",
       "\n",
       "    .dataframe tbody tr th {\n",
       "        vertical-align: top;\n",
       "    }\n",
       "\n",
       "    .dataframe thead th {\n",
       "        text-align: right;\n",
       "    }\n",
       "</style>\n",
       "<table border=\"1\" class=\"dataframe\">\n",
       "  <thead>\n",
       "    <tr style=\"text-align: right;\">\n",
       "      <th></th>\n",
       "      <th>0</th>\n",
       "      <th>1</th>\n",
       "      <th>2</th>\n",
       "      <th>3</th>\n",
       "      <th>4</th>\n",
       "      <th>5</th>\n",
       "      <th>6</th>\n",
       "      <th>7</th>\n",
       "      <th>8</th>\n",
       "      <th>9</th>\n",
       "    </tr>\n",
       "  </thead>\n",
       "  <tbody>\n",
       "    <tr>\n",
       "      <th>0</th>\n",
       "      <td>801</td>\n",
       "      <td>812</td>\n",
       "      <td>719</td>\n",
       "      <td>731</td>\n",
       "      <td>687</td>\n",
       "      <td>620</td>\n",
       "      <td>600</td>\n",
       "      <td>537</td>\n",
       "      <td>508</td>\n",
       "      <td>526</td>\n",
       "    </tr>\n",
       "    <tr>\n",
       "      <th>1</th>\n",
       "      <td>836</td>\n",
       "      <td>815</td>\n",
       "      <td>821</td>\n",
       "      <td>732</td>\n",
       "      <td>703</td>\n",
       "      <td>640</td>\n",
       "      <td>647</td>\n",
       "      <td>578</td>\n",
       "      <td>550</td>\n",
       "      <td>520</td>\n",
       "    </tr>\n",
       "    <tr>\n",
       "      <th>2</th>\n",
       "      <td>839</td>\n",
       "      <td>825</td>\n",
       "      <td>780</td>\n",
       "      <td>769</td>\n",
       "      <td>712</td>\n",
       "      <td>682</td>\n",
       "      <td>663</td>\n",
       "      <td>600</td>\n",
       "      <td>535</td>\n",
       "      <td>554</td>\n",
       "    </tr>\n",
       "    <tr>\n",
       "      <th>3</th>\n",
       "      <td>769</td>\n",
       "      <td>795</td>\n",
       "      <td>753</td>\n",
       "      <td>715</td>\n",
       "      <td>693</td>\n",
       "      <td>669</td>\n",
       "      <td>594</td>\n",
       "      <td>554</td>\n",
       "      <td>479</td>\n",
       "      <td>515</td>\n",
       "    </tr>\n",
       "    <tr>\n",
       "      <th>4</th>\n",
       "      <td>765</td>\n",
       "      <td>737</td>\n",
       "      <td>733</td>\n",
       "      <td>735</td>\n",
       "      <td>659</td>\n",
       "      <td>610</td>\n",
       "      <td>581</td>\n",
       "      <td>559</td>\n",
       "      <td>510</td>\n",
       "      <td>479</td>\n",
       "    </tr>\n",
       "    <tr>\n",
       "      <th>...</th>\n",
       "      <td>...</td>\n",
       "      <td>...</td>\n",
       "      <td>...</td>\n",
       "      <td>...</td>\n",
       "      <td>...</td>\n",
       "      <td>...</td>\n",
       "      <td>...</td>\n",
       "      <td>...</td>\n",
       "      <td>...</td>\n",
       "      <td>...</td>\n",
       "    </tr>\n",
       "    <tr>\n",
       "      <th>33987</th>\n",
       "      <td>783</td>\n",
       "      <td>700</td>\n",
       "      <td>647</td>\n",
       "      <td>628</td>\n",
       "      <td>613</td>\n",
       "      <td>618</td>\n",
       "      <td>539</td>\n",
       "      <td>557</td>\n",
       "      <td>485</td>\n",
       "      <td>493</td>\n",
       "    </tr>\n",
       "    <tr>\n",
       "      <th>33988</th>\n",
       "      <td>781</td>\n",
       "      <td>746</td>\n",
       "      <td>672</td>\n",
       "      <td>687</td>\n",
       "      <td>633</td>\n",
       "      <td>611</td>\n",
       "      <td>596</td>\n",
       "      <td>536</td>\n",
       "      <td>507</td>\n",
       "      <td>504</td>\n",
       "    </tr>\n",
       "    <tr>\n",
       "      <th>33989</th>\n",
       "      <td>808</td>\n",
       "      <td>710</td>\n",
       "      <td>725</td>\n",
       "      <td>670</td>\n",
       "      <td>666</td>\n",
       "      <td>648</td>\n",
       "      <td>590</td>\n",
       "      <td>614</td>\n",
       "      <td>536</td>\n",
       "      <td>494</td>\n",
       "    </tr>\n",
       "    <tr>\n",
       "      <th>33990</th>\n",
       "      <td>798</td>\n",
       "      <td>783</td>\n",
       "      <td>728</td>\n",
       "      <td>723</td>\n",
       "      <td>670</td>\n",
       "      <td>631</td>\n",
       "      <td>632</td>\n",
       "      <td>524</td>\n",
       "      <td>495</td>\n",
       "      <td>497</td>\n",
       "    </tr>\n",
       "    <tr>\n",
       "      <th>33991</th>\n",
       "      <td>762</td>\n",
       "      <td>740</td>\n",
       "      <td>734</td>\n",
       "      <td>693</td>\n",
       "      <td>717</td>\n",
       "      <td>629</td>\n",
       "      <td>621</td>\n",
       "      <td>586</td>\n",
       "      <td>508</td>\n",
       "      <td>505</td>\n",
       "    </tr>\n",
       "  </tbody>\n",
       "</table>\n",
       "<p>33992 rows × 10 columns</p>\n",
       "</div>"
      ],
      "text/plain": [
       "         0    1    2    3    4    5    6    7    8    9\n",
       "0      801  812  719  731  687  620  600  537  508  526\n",
       "1      836  815  821  732  703  640  647  578  550  520\n",
       "2      839  825  780  769  712  682  663  600  535  554\n",
       "3      769  795  753  715  693  669  594  554  479  515\n",
       "4      765  737  733  735  659  610  581  559  510  479\n",
       "...    ...  ...  ...  ...  ...  ...  ...  ...  ...  ...\n",
       "33987  783  700  647  628  613  618  539  557  485  493\n",
       "33988  781  746  672  687  633  611  596  536  507  504\n",
       "33989  808  710  725  670  666  648  590  614  536  494\n",
       "33990  798  783  728  723  670  631  632  524  495  497\n",
       "33991  762  740  734  693  717  629  621  586  508  505\n",
       "\n",
       "[33992 rows x 10 columns]"
      ]
     },
     "execution_count": 20,
     "metadata": {},
     "output_type": "execute_result"
    }
   ],
   "source": [
    "pd.DataFrame(fit_A).plot.scatter(x='length',()"
   ]
  },
  {
   "cell_type": "code",
   "execution_count": null,
   "metadata": {},
   "outputs": [],
   "source": [
    "11112448."
   ]
  }
 ],
 "metadata": {
  "kernelspec": {
   "display_name": "Python 3",
   "language": "python",
   "name": "python3"
  },
  "language_info": {
   "codemirror_mode": {
    "name": "ipython",
    "version": 3
   },
   "file_extension": ".py",
   "mimetype": "text/x-python",
   "name": "python",
   "nbconvert_exporter": "python",
   "pygments_lexer": "ipython3",
   "version": "3.6.8"
  }
 },
 "nbformat": 4,
 "nbformat_minor": 2
}
